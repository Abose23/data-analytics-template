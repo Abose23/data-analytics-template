{
 "cells": [
  {
   "cell_type": "markdown",
   "id": "e110264a-c7de-4e46-9805-b62cae1c0fba",
   "metadata": {},
   "source": [
    "# Project name"
   ]
  },
  {
   "cell_type": "markdown",
   "id": "351ea3d1-c09c-46c6-ae44-8e0dbf69f4e3",
   "metadata": {},
   "source": [
    "**Author:** Andrew Bose\n",
    "**Last modified** 11/13/2024 (created 11/13/2024)\n",
    "\n",
    "**Description** Short paragraph explaining this project\n",
    "\n",
    "<br>\n",
    "\n",
    "Import libraries:"
   ]
  },
  {
   "cell_type": "code",
   "execution_count": 4,
   "id": "76b948f1-f502-4129-8c41-218d75f06348",
   "metadata": {},
   "outputs": [],
   "source": [
    "import pandas as pd"
   ]
  },
  {
   "cell_type": "code",
   "execution_count": null,
   "id": "1f28c908-e664-46f4-bdce-7e7318b23c3d",
   "metadata": {},
   "outputs": [],
   "source": []
  }
 ],
 "metadata": {
  "kernelspec": {
   "display_name": "Python 3 (ipykernel)",
   "language": "python",
   "name": "python3"
  },
  "language_info": {
   "codemirror_mode": {
    "name": "ipython",
    "version": 3
   },
   "file_extension": ".py",
   "mimetype": "text/x-python",
   "name": "python",
   "nbconvert_exporter": "python",
   "pygments_lexer": "ipython3",
   "version": "3.12.3"
  }
 },
 "nbformat": 4,
 "nbformat_minor": 5
}
